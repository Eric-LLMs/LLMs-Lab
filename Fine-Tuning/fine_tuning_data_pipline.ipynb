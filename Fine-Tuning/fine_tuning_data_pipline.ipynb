{
 "cells": [
  {
   "cell_type": "markdown",
   "source": [
    "## 1. Data Example\n",
    "```json [\n",
    "    {\n",
    "        \"instruction\": \"Give three tips for staying healthy.\",\n",
    "        \"input\": \"\",\n",
    "        \"output\": \"1.Eat a balanced diet and make sure to include plenty of fruits and vegetables. \\n2. Exercise regularly to keep your body active and strong. \\n3. Get enough sleep and maintain a consistent sleep schedule.\"\n",
    "    }\n",
    "    ,\n",
    "    {\n",
    "        \"instruction\": \"Describe a time when you had to make a difficult decision.\",\n",
    "        \"input\": \"\",\n",
    "        \"output\": \"I had to make a difficult decision when I was working as a project manager at a construction company. I was in charge of a project that needed to be completed by a certain date in order to meet the client\\u2019s expectations. However, due to unexpected delays, we were not able to meet the deadline and so I had to make a difficult decision. I decided to extend the deadline, but I had to stretch the team\\u2019s resources even further and increase the budget. Although it was a risky decision, I ultimately decided to go ahead with it to ensure that the project was completed on time and that the client\\u2019s expectations were met. The project was eventually successfully completed and this was seen as a testament to my leadership and decision-making abilities.\"\n",
    "    },\n",
    "    {\n",
    "        \"instruction\": \"Identify the odd one out.\",\n",
    "        \"input\": \"Twitter, Instagram, Telegram\",\n",
    "        \"output\": \"Telegram\"\n",
    "    },\n",
    "    {\n",
    "        \"instruction\": \"Explain why the following fraction is equivalent to 1/4\",\n",
    "        \"input\": \"4/16\",\n",
    "        \"output\": \"The fraction 4/16 is equivalent to 1/4 because both numerators and denominators are divisible by 4. Dividing both the top and bottom numbers by 4 yields the fraction 1/4.\"\n",
    "    },\n",
    "    {\n",
    "        \"instruction\": \"Evaluate this sentence for spelling and grammar mistakes\",\n",
    "        \"input\": \"He finnished his meal and left the resturant\",\n",
    "        \"output\": \"He finished his meal and left the restaurant.\"\n",
    "    }\n",
    "  "
   ],
   "metadata": {
    "collapsed": false
   },
   "id": "f150eef2d84d4a52"
  },
  {
   "cell_type": "markdown",
   "source": [
    "### [Instruct Example](../Fine-Tuning/data/alpaca_data.json)"
   ],
   "metadata": {
    "collapsed": false
   },
   "id": "b2f27a56a30bae69"
  },
  {
   "cell_type": "markdown",
   "source": [
    "## 2.Instruct data pipline :   \n",
    "![](images/instruct-data-pipline.png)"
   ],
   "metadata": {
    "collapsed": false
   },
   "id": "7112be0df157bc19"
  },
  {
   "cell_type": "code",
   "execution_count": null,
   "outputs": [],
   "source": [],
   "metadata": {
    "collapsed": false
   },
   "id": "d2c700d33b52df74"
  }
 ],
 "metadata": {
  "kernelspec": {
   "display_name": "Python 3",
   "language": "python",
   "name": "python3"
  },
  "language_info": {
   "codemirror_mode": {
    "name": "ipython",
    "version": 2
   },
   "file_extension": ".py",
   "mimetype": "text/x-python",
   "name": "python",
   "nbconvert_exporter": "python",
   "pygments_lexer": "ipython2",
   "version": "2.7.6"
  }
 },
 "nbformat": 4,
 "nbformat_minor": 5
}
