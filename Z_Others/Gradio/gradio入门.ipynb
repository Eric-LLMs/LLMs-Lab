{
 "cells": [
  {
   "cell_type": "markdown",
   "id": "f83a49a6-316f-452b-8f9d-6b1790f500ba",
   "metadata": {},
   "source": [
    "# 大纲\n",
    "\n",
    "- [What] 什么是Gradio？\n",
    "- [Why] 为什么要学习Gradio？\n",
    "- [How] 怎么使用Gradio？\n",
    "  - 安装\n",
    "  - Building Your First Demo\n",
    "  - 分析mygpt项目"
   ]
  },
  {
   "cell_type": "code",
   "execution_count": null,
   "id": "72cec3e9-02c2-4c7a-9bfc-caabb9e1fd63",
   "metadata": {},
   "outputs": [],
   "source": []
  },
  {
   "cell_type": "markdown",
   "id": "1bb15516-4fcb-4412-b79b-83c0fd5fc095",
   "metadata": {},
   "source": [
    "### [What] 什么是Gradio？\n",
    "\n",
    "Q：什么是Gradio？\n",
    "\n",
    "- Gradio是一个**python库**，可以帮助你**简单快速**地构建**前端界面**。\n",
    "\n",
    "> Gradio 是一个开源 Python 软件包，可以让你快速为`机器学习模型`、`API` 或`任何任意 Python 函数`创建一个演示或网络应用程序。然后，您就可以使用 Gradio 内置的分享功能，在几秒钟内分享您的演示或网络应用程序的链接。无需 JavaScript、CSS 或网络托管经验！\n",
    ">\n",
    "> 官方网站：[https://www.gradio.app/](https://www.gradio.app)\n",
    "> \n",
    "> 官方文档 - 快速开始：[https://www.gradio.app/guides/quickstart](https://www.gradio.app/guides/quickstart)\n",
    "\n",
    "<br>\n",
    "\n",
    "Q：为什么Gradio可以简单快速地构建前端界面？\n",
    "\n",
    "- gradio库封装了很多组件（Components），堆砌组合即可\n",
    "- python实现，不需要学习前端编程语言\n",
    "\n",
    "<br>\n",
    "\n",
    "Q：Gradio构建的前端界面长什么样子？\n",
    "\n",
    "Quickstart - demo\n",
    "\n",
    "三个组件：文本框 Textbox 、按钮 Button 和 图像框 Image\n",
    "\n",
    "![image.png](assets/quickstart-demo.png)\n",
    "\n",
    "\n",
    "Q：Gradio怎么把前后端结合起来的？即Gradio的运行原理？\n",
    "\n",
    "以“Quickstart - demo”为例：\n",
    "\n",
    "- 表面行为：点击“按钮”后，gradio能从“文本框”中获取输入，向“图像框”中返回输出\n",
    "- 背后逻辑：输入组件Textbox -> gradio预处理（Preprocessing） -> str -> your function:def() - > str/numpy.array -> gradio后处理（Postprocessing）-> 输出组件Image\n",
    "\n",
    "![image.png](assets/app-logic.png)\n",
    "\n",
    "- 总结：在构建此类应用时，重点是需要指明输入组件是哪些，输出组件是哪些，还有自定义的功能函数(可能是模型/api/python函数)\n",
    "\n",
    "Q：还想再看看更多使用gradio的例子？\n",
    "\n",
    "- ChatGLM2-6B\n",
    "\n",
    "[https://github.com/THUDM/ChatGLM2-6B](https://github.com/THUDM/ChatGLM2-6B)\n",
    "\n",
    "![chatglm-web-demo](assets/chatglm-web-demo.gif)\n",
    "\n",
    "\n",
    "- gpt_academic\n",
    "\n",
    "[https://github.com/binary-husky/gpt_academic](https://github.com/binary-husky/gpt_academic)\n",
    "\n",
    "![gpt_academic-web-demo](assets/gpt_academic-web-demo.gif)\n",
    "\n",
    "\n",
    "- stable-diffusion-webui\n",
    "\n",
    "[https://github.com/AUTOMATIC1111/stable-diffusion-webui](https://github.com/AUTOMATIC1111/stable-diffusion-webui)\n",
    "\n",
    "![stable-diffusion-web-ui](assets/stable-diffusion-web-ui.png)"
   ]
  },
  {
   "cell_type": "code",
   "execution_count": null,
   "id": "49df3cfd-7a36-4fc1-aff6-658ed83fd086",
   "metadata": {},
   "outputs": [],
   "source": []
  },
  {
   "cell_type": "markdown",
   "id": "c318b4f6-cfb9-4c36-b730-ee4a16d9a725",
   "metadata": {},
   "source": [
    "## [Why] 为什么要学习Gradio？\n",
    "\n",
    "- 直观演示你的模型、API、函数：需要图形化的界面，但又不太需要过多关心界面\n",
    "- 快速部署和分享: 只需要多添加一个参数`share=True`，就会生成一个公共URL(72小时后过期)，世界各地的人都可以访问您的URL\n",
    "  - 公共URL格式示例: `https://a23dsf231adb.gradio.liveve`"
   ]
  },
  {
   "cell_type": "code",
   "execution_count": null,
   "id": "1173d830-54a0-4c17-8233-c49c925ce97f",
   "metadata": {},
   "outputs": [],
   "source": []
  },
  {
   "cell_type": "markdown",
   "id": "836e47fe-9f2e-4e67-a5b1-ac8e7e334a36",
   "metadata": {},
   "source": [
    "## [How] 怎么使用Gradio？\n",
    "\n",
    "### 安装\n",
    "\n",
    "- 必要条件：Gradio需要Python 3.8或更高版本\n",
    "- 安装命令：安装最新版本：`pip install gradio` 或安装指定版本：`pip install gradio==4.7.1`\n",
    "- 查看包信息：`pip show gradio`"
   ]
  },
  {
   "cell_type": "code",
   "execution_count": 2,
   "id": "4bc426dc-2778-4956-94e6-5a4a66774d10",
   "metadata": {
    "scrolled": true
   },
   "outputs": [
    {
     "name": "stdout",
     "output_type": "stream",
     "text": [
      "Collecting gradio==4.7.1\n",
      "  Using cached gradio-4.7.1-py3-none-any.whl.metadata (17 kB)\n",
      "Requirement already satisfied: aiofiles<24.0,>=22.0 in d:\\software\\anaconda3\\envs\\py38\\lib\\site-packages (from gradio==4.7.1) (23.2.1)\n",
      "Requirement already satisfied: altair<6.0,>=4.2.0 in d:\\software\\anaconda3\\envs\\py38\\lib\\site-packages (from gradio==4.7.1) (5.2.0)\n",
      "Requirement already satisfied: fastapi in d:\\software\\anaconda3\\envs\\py38\\lib\\site-packages (from gradio==4.7.1) (0.109.0)\n",
      "Requirement already satisfied: ffmpy in d:\\software\\anaconda3\\envs\\py38\\lib\\site-packages (from gradio==4.7.1) (0.3.1)\n",
      "Collecting gradio-client==0.7.0 (from gradio==4.7.1)\n",
      "  Using cached gradio_client-0.7.0-py3-none-any.whl.metadata (7.1 kB)\n",
      "Requirement already satisfied: httpx in d:\\software\\anaconda3\\envs\\py38\\lib\\site-packages (from gradio==4.7.1) (0.26.0)\n",
      "Requirement already satisfied: huggingface-hub>=0.14.0 in d:\\software\\anaconda3\\envs\\py38\\lib\\site-packages (from gradio==4.7.1) (0.20.2)\n",
      "Requirement already satisfied: importlib-resources<7.0,>=1.3 in d:\\software\\anaconda3\\envs\\py38\\lib\\site-packages (from gradio==4.7.1) (6.1.1)\n",
      "Requirement already satisfied: jinja2<4.0 in d:\\software\\anaconda3\\envs\\py38\\lib\\site-packages (from gradio==4.7.1) (3.1.3)\n",
      "Requirement already satisfied: markupsafe~=2.0 in d:\\software\\anaconda3\\envs\\py38\\lib\\site-packages (from gradio==4.7.1) (2.1.4)\n",
      "Requirement already satisfied: matplotlib~=3.0 in d:\\software\\anaconda3\\envs\\py38\\lib\\site-packages (from gradio==4.7.1) (3.7.4)\n",
      "Requirement already satisfied: numpy~=1.0 in d:\\software\\anaconda3\\envs\\py38\\lib\\site-packages (from gradio==4.7.1) (1.24.4)\n",
      "Requirement already satisfied: orjson~=3.0 in d:\\software\\anaconda3\\envs\\py38\\lib\\site-packages (from gradio==4.7.1) (3.9.12)\n",
      "Requirement already satisfied: packaging in d:\\software\\anaconda3\\envs\\py38\\lib\\site-packages (from gradio==4.7.1) (23.2)\n",
      "Requirement already satisfied: pandas<3.0,>=1.0 in d:\\software\\anaconda3\\envs\\py38\\lib\\site-packages (from gradio==4.7.1) (2.0.3)\n",
      "Requirement already satisfied: pillow<11.0,>=8.0 in d:\\software\\anaconda3\\envs\\py38\\lib\\site-packages (from gradio==4.7.1) (10.2.0)\n",
      "Requirement already satisfied: pydantic>=2.0 in d:\\software\\anaconda3\\envs\\py38\\lib\\site-packages (from gradio==4.7.1) (2.5.3)\n",
      "Requirement already satisfied: pydub in d:\\software\\anaconda3\\envs\\py38\\lib\\site-packages (from gradio==4.7.1) (0.25.1)\n",
      "Requirement already satisfied: python-multipart in d:\\software\\anaconda3\\envs\\py38\\lib\\site-packages (from gradio==4.7.1) (0.0.6)\n",
      "Requirement already satisfied: pyyaml<7.0,>=5.0 in d:\\software\\anaconda3\\envs\\py38\\lib\\site-packages (from gradio==4.7.1) (6.0.1)\n",
      "Requirement already satisfied: requests~=2.0 in d:\\software\\anaconda3\\envs\\py38\\lib\\site-packages (from gradio==4.7.1) (2.31.0)\n",
      "Requirement already satisfied: semantic-version~=2.0 in d:\\software\\anaconda3\\envs\\py38\\lib\\site-packages (from gradio==4.7.1) (2.10.0)\n",
      "Requirement already satisfied: tomlkit==0.12.0 in d:\\software\\anaconda3\\envs\\py38\\lib\\site-packages (from gradio==4.7.1) (0.12.0)\n",
      "Requirement already satisfied: typer<1.0,>=0.9 in d:\\software\\anaconda3\\envs\\py38\\lib\\site-packages (from typer[all]<1.0,>=0.9->gradio==4.7.1) (0.9.0)\n",
      "Requirement already satisfied: typing-extensions~=4.0 in d:\\software\\anaconda3\\envs\\py38\\lib\\site-packages (from gradio==4.7.1) (4.9.0)\n",
      "Requirement already satisfied: uvicorn>=0.14.0 in d:\\software\\anaconda3\\envs\\py38\\lib\\site-packages (from gradio==4.7.1) (0.26.0)\n",
      "Requirement already satisfied: fsspec in d:\\software\\anaconda3\\envs\\py38\\lib\\site-packages (from gradio-client==0.7.0->gradio==4.7.1) (2023.12.2)\n",
      "Requirement already satisfied: websockets<12.0,>=10.0 in d:\\software\\anaconda3\\envs\\py38\\lib\\site-packages (from gradio-client==0.7.0->gradio==4.7.1) (11.0.3)\n",
      "Requirement already satisfied: jsonschema>=3.0 in d:\\software\\anaconda3\\envs\\py38\\lib\\site-packages (from altair<6.0,>=4.2.0->gradio==4.7.1) (4.21.1)\n",
      "Requirement already satisfied: toolz in d:\\software\\anaconda3\\envs\\py38\\lib\\site-packages (from altair<6.0,>=4.2.0->gradio==4.7.1) (0.12.0)\n",
      "Requirement already satisfied: filelock in d:\\software\\anaconda3\\envs\\py38\\lib\\site-packages (from huggingface-hub>=0.14.0->gradio==4.7.1) (3.13.1)\n",
      "Requirement already satisfied: tqdm>=4.42.1 in d:\\software\\anaconda3\\envs\\py38\\lib\\site-packages (from huggingface-hub>=0.14.0->gradio==4.7.1) (4.66.1)\n",
      "Requirement already satisfied: zipp>=3.1.0 in d:\\software\\anaconda3\\envs\\py38\\lib\\site-packages (from importlib-resources<7.0,>=1.3->gradio==4.7.1) (3.17.0)\n",
      "Requirement already satisfied: contourpy>=1.0.1 in d:\\software\\anaconda3\\envs\\py38\\lib\\site-packages (from matplotlib~=3.0->gradio==4.7.1) (1.1.1)\n",
      "Requirement already satisfied: cycler>=0.10 in d:\\software\\anaconda3\\envs\\py38\\lib\\site-packages (from matplotlib~=3.0->gradio==4.7.1) (0.12.1)\n",
      "Requirement already satisfied: fonttools>=4.22.0 in d:\\software\\anaconda3\\envs\\py38\\lib\\site-packages (from matplotlib~=3.0->gradio==4.7.1) (4.47.2)\n",
      "Requirement already satisfied: kiwisolver>=1.0.1 in d:\\software\\anaconda3\\envs\\py38\\lib\\site-packages (from matplotlib~=3.0->gradio==4.7.1) (1.4.5)\n",
      "Requirement already satisfied: pyparsing>=2.3.1 in d:\\software\\anaconda3\\envs\\py38\\lib\\site-packages (from matplotlib~=3.0->gradio==4.7.1) (3.1.1)\n",
      "Requirement already satisfied: python-dateutil>=2.7 in d:\\software\\anaconda3\\envs\\py38\\lib\\site-packages (from matplotlib~=3.0->gradio==4.7.1) (2.8.2)\n",
      "Requirement already satisfied: pytz>=2020.1 in d:\\software\\anaconda3\\envs\\py38\\lib\\site-packages (from pandas<3.0,>=1.0->gradio==4.7.1) (2023.3.post1)\n",
      "Requirement already satisfied: tzdata>=2022.1 in d:\\software\\anaconda3\\envs\\py38\\lib\\site-packages (from pandas<3.0,>=1.0->gradio==4.7.1) (2023.4)\n",
      "Requirement already satisfied: annotated-types>=0.4.0 in d:\\software\\anaconda3\\envs\\py38\\lib\\site-packages (from pydantic>=2.0->gradio==4.7.1) (0.6.0)\n",
      "Requirement already satisfied: pydantic-core==2.14.6 in d:\\software\\anaconda3\\envs\\py38\\lib\\site-packages (from pydantic>=2.0->gradio==4.7.1) (2.14.6)\n",
      "Requirement already satisfied: charset-normalizer<4,>=2 in d:\\software\\anaconda3\\envs\\py38\\lib\\site-packages (from requests~=2.0->gradio==4.7.1) (3.3.2)\n",
      "Requirement already satisfied: idna<4,>=2.5 in d:\\software\\anaconda3\\envs\\py38\\lib\\site-packages (from requests~=2.0->gradio==4.7.1) (3.6)\n",
      "Requirement already satisfied: urllib3<3,>=1.21.1 in d:\\software\\anaconda3\\envs\\py38\\lib\\site-packages (from requests~=2.0->gradio==4.7.1) (2.1.0)\n",
      "Requirement already satisfied: certifi>=2017.4.17 in d:\\software\\anaconda3\\envs\\py38\\lib\\site-packages (from requests~=2.0->gradio==4.7.1) (2023.11.17)\n",
      "Requirement already satisfied: click<9.0.0,>=7.1.1 in d:\\software\\anaconda3\\envs\\py38\\lib\\site-packages (from typer<1.0,>=0.9->typer[all]<1.0,>=0.9->gradio==4.7.1) (8.1.7)\n",
      "Requirement already satisfied: colorama<0.5.0,>=0.4.3 in d:\\software\\anaconda3\\envs\\py38\\lib\\site-packages (from typer[all]<1.0,>=0.9->gradio==4.7.1) (0.4.6)\n",
      "Requirement already satisfied: shellingham<2.0.0,>=1.3.0 in d:\\software\\anaconda3\\envs\\py38\\lib\\site-packages (from typer[all]<1.0,>=0.9->gradio==4.7.1) (1.5.4)\n",
      "Requirement already satisfied: rich<14.0.0,>=10.11.0 in d:\\software\\anaconda3\\envs\\py38\\lib\\site-packages (from typer[all]<1.0,>=0.9->gradio==4.7.1) (13.7.0)\n",
      "Requirement already satisfied: h11>=0.8 in d:\\software\\anaconda3\\envs\\py38\\lib\\site-packages (from uvicorn>=0.14.0->gradio==4.7.1) (0.14.0)\n",
      "Requirement already satisfied: starlette<0.36.0,>=0.35.0 in d:\\software\\anaconda3\\envs\\py38\\lib\\site-packages (from fastapi->gradio==4.7.1) (0.35.1)\n",
      "Requirement already satisfied: anyio in d:\\software\\anaconda3\\envs\\py38\\lib\\site-packages (from httpx->gradio==4.7.1) (3.7.1)\n",
      "Requirement already satisfied: httpcore==1.* in d:\\software\\anaconda3\\envs\\py38\\lib\\site-packages (from httpx->gradio==4.7.1) (1.0.2)\n",
      "Requirement already satisfied: sniffio in d:\\software\\anaconda3\\envs\\py38\\lib\\site-packages (from httpx->gradio==4.7.1) (1.3.0)\n",
      "Requirement already satisfied: attrs>=22.2.0 in d:\\software\\anaconda3\\envs\\py38\\lib\\site-packages (from jsonschema>=3.0->altair<6.0,>=4.2.0->gradio==4.7.1) (23.2.0)\n",
      "Requirement already satisfied: jsonschema-specifications>=2023.03.6 in d:\\software\\anaconda3\\envs\\py38\\lib\\site-packages (from jsonschema>=3.0->altair<6.0,>=4.2.0->gradio==4.7.1) (2023.12.1)\n",
      "Requirement already satisfied: pkgutil-resolve-name>=1.3.10 in d:\\software\\anaconda3\\envs\\py38\\lib\\site-packages (from jsonschema>=3.0->altair<6.0,>=4.2.0->gradio==4.7.1) (1.3.10)\n",
      "Requirement already satisfied: referencing>=0.28.4 in d:\\software\\anaconda3\\envs\\py38\\lib\\site-packages (from jsonschema>=3.0->altair<6.0,>=4.2.0->gradio==4.7.1) (0.32.1)\n",
      "Requirement already satisfied: rpds-py>=0.7.1 in d:\\software\\anaconda3\\envs\\py38\\lib\\site-packages (from jsonschema>=3.0->altair<6.0,>=4.2.0->gradio==4.7.1) (0.17.1)\n",
      "Requirement already satisfied: six>=1.5 in d:\\software\\anaconda3\\envs\\py38\\lib\\site-packages (from python-dateutil>=2.7->matplotlib~=3.0->gradio==4.7.1) (1.16.0)\n",
      "Requirement already satisfied: markdown-it-py>=2.2.0 in d:\\software\\anaconda3\\envs\\py38\\lib\\site-packages (from rich<14.0.0,>=10.11.0->typer[all]<1.0,>=0.9->gradio==4.7.1) (3.0.0)\n",
      "Requirement already satisfied: pygments<3.0.0,>=2.13.0 in d:\\software\\anaconda3\\envs\\py38\\lib\\site-packages (from rich<14.0.0,>=10.11.0->typer[all]<1.0,>=0.9->gradio==4.7.1) (2.17.2)\n",
      "Requirement already satisfied: exceptiongroup in d:\\software\\anaconda3\\envs\\py38\\lib\\site-packages (from anyio->httpx->gradio==4.7.1) (1.2.0)\n",
      "Requirement already satisfied: mdurl~=0.1 in d:\\software\\anaconda3\\envs\\py38\\lib\\site-packages (from markdown-it-py>=2.2.0->rich<14.0.0,>=10.11.0->typer[all]<1.0,>=0.9->gradio==4.7.1) (0.1.2)\n",
      "Using cached gradio-4.7.1-py3-none-any.whl (16.5 MB)\n",
      "Using cached gradio_client-0.7.0-py3-none-any.whl (302 kB)\n",
      "Installing collected packages: gradio-client, gradio\n",
      "  Attempting uninstall: gradio-client\n",
      "    Found existing installation: gradio_client 0.8.1\n",
      "    Uninstalling gradio_client-0.8.1:\n",
      "      Successfully uninstalled gradio_client-0.8.1\n",
      "Successfully installed gradio-4.7.1 gradio-client-0.7.0\n"
     ]
    }
   ],
   "source": [
    "!pip install gradio==4.7.1"
   ]
  },
  {
   "cell_type": "markdown",
   "id": "a902dc15-690e-4827-b120-6a367b45ed5e",
   "metadata": {},
   "source": []
  },
  {
   "cell_type": "markdown",
   "id": "22642a61-5e18-4d5c-9072-14a4e0ac701a",
   "metadata": {},
   "source": [
    "### Building Your First Demo\n",
    "\n",
    "#### gr.Interface\n",
    "\n",
    "- [https://www.gradio.app/docs/interface](https://www.gradio.app/docs/interface)\n",
    "- high-level class\n",
    "- Interface 类旨在为接受一个或多个输入并返回一个或多个输出的机器学习模型创建演示。\n",
    "- Interface 类有三个核心参数：\n",
    "    - fn ：包装用户界面（UI）的函数\n",
    "    - inputs ：用于输入的Gradio组件。组件的数量应该与函数中参数的数量相匹配。\n",
    "    - outputs ：用于输出的Gradio组件。组件的数量应该与函数返回值的数量相匹配。"
   ]
  },
  {
   "cell_type": "code",
   "execution_count": 12,
   "id": "9b066cd9-af18-4421-acba-10326c6ae58f",
   "metadata": {},
   "outputs": [
    {
     "name": "stdout",
     "output_type": "stream",
     "text": [
      "Running on local URL:  http://127.0.0.1:7867\n",
      "\n",
      "To create a public link, set `share=True` in `launch()`.\n"
     ]
    },
    {
     "data": {
      "text/html": [
       "<div><iframe src=\"http://127.0.0.1:7867/\" width=\"100%\" height=\"500\" allow=\"autoplay; camera; microphone; clipboard-read; clipboard-write;\" frameborder=\"0\" allowfullscreen></iframe></div>"
      ],
      "text/plain": [
       "<IPython.core.display.HTML object>"
      ]
     },
     "metadata": {},
     "output_type": "display_data"
    },
    {
     "data": {
      "text/plain": []
     },
     "execution_count": 12,
     "metadata": {},
     "output_type": "execute_result"
    }
   ],
   "source": [
    "import gradio as gr\n",
    "\n",
    "def greet(name, intensity):\n",
    "    return \"Hello \" * intensity + name + \"!\"\n",
    "\n",
    "demo = gr.Interface(\n",
    "    fn=greet,\n",
    "    inputs=[\"text\", \"slider\"], # [gr.Textbox(), gr.Slider()],\n",
    "    outputs=[\"text\"], # [gr.Textbox()]\n",
    ")\n",
    "\n",
    "demo.launch()"
   ]
  },
  {
   "cell_type": "markdown",
   "id": "5488100f-b7b3-499b-84c8-7bc8175d58ee",
   "metadata": {},
   "source": [
    "快速部署与分享\n",
    "\n",
    "To create a public link, set `share=True` in `launch()`."
   ]
  },
  {
   "cell_type": "code",
   "execution_count": 17,
   "id": "34502464-7a08-462b-8fcd-88b2f47cafb7",
   "metadata": {},
   "outputs": [],
   "source": [
    "# 我这里没有创建成功, 按照他的提示执行后就可以了\n",
    "# 创建成功:会输出一个类似`https://a23dsf231adb.gradio.liveve`这种格式的连接"
   ]
  },
  {
   "cell_type": "code",
   "execution_count": 9,
   "id": "68f19ff6-57cc-42d5-992d-6bef93deffab",
   "metadata": {},
   "outputs": [
    {
     "name": "stdout",
     "output_type": "stream",
     "text": [
      "Running on local URL:  http://127.0.0.1:7868\n",
      "\n",
      "Could not create share link. Missing file: D:\\Software\\anaconda3\\envs\\py38\\lib\\site-packages\\gradio\\frpc_windows_amd64_v0.2. \n",
      "\n",
      "Please check your internet connection. This can happen if your antivirus software blocks the download of this file. You can install manually by following these steps: \n",
      "\n",
      "1. Download this file: https://cdn-media.huggingface.co/frpc-gradio-0.2/frpc_windows_amd64.exe\n",
      "2. Rename the downloaded file to: frpc_windows_amd64_v0.2\n",
      "3. Move the file to this location: D:\\Software\\anaconda3\\envs\\py38\\lib\\site-packages\\gradio\n"
     ]
    },
    {
     "data": {
      "text/html": [
       "<div><iframe src=\"http://127.0.0.1:7868/\" width=\"100%\" height=\"500\" allow=\"autoplay; camera; microphone; clipboard-read; clipboard-write;\" frameborder=\"0\" allowfullscreen></iframe></div>"
      ],
      "text/plain": [
       "<IPython.core.display.HTML object>"
      ]
     },
     "metadata": {},
     "output_type": "display_data"
    },
    {
     "data": {
      "text/plain": []
     },
     "execution_count": 9,
     "metadata": {},
     "output_type": "execute_result"
    }
   ],
   "source": [
    "import gradio as gr\n",
    "\n",
    "def greet(name, intensity):\n",
    "    return \"Hello \" * intensity + name + \"!\"\n",
    "\n",
    "demo = gr.Interface(\n",
    "    fn=greet,\n",
    "    inputs=[\"text\", \"slider\"], # [gr.Textbox(), gr.Slider()],\n",
    "    outputs=[\"text\"], # [gr.Textbox()]\n",
    ")\n",
    "\n",
    "demo.launch(share=True)"
   ]
  },
  {
   "cell_type": "markdown",
   "id": "78af1fc2-1cdb-4220-814f-f054448b51fe",
   "metadata": {},
   "source": [
    "#### gr.ChatInterface\n",
    "\n",
    "- [https://www.gradio.app/docs/chatinterface](https://www.gradio.app/docs/chatinterface)\n",
    "- high-level class\n",
    "- 专门用于创建聊天机器人UI"
   ]
  },
  {
   "cell_type": "code",
   "execution_count": 13,
   "id": "db081e38-366d-4155-82f7-1ff5ed1d6a99",
   "metadata": {},
   "outputs": [
    {
     "name": "stdout",
     "output_type": "stream",
     "text": [
      "Running on local URL:  http://127.0.0.1:7869\n",
      "\n",
      "To create a public link, set `share=True` in `launch()`.\n"
     ]
    },
    {
     "data": {
      "text/html": [
       "<div><iframe src=\"http://127.0.0.1:7869/\" width=\"100%\" height=\"500\" allow=\"autoplay; camera; microphone; clipboard-read; clipboard-write;\" frameborder=\"0\" allowfullscreen></iframe></div>"
      ],
      "text/plain": [
       "<IPython.core.display.HTML object>"
      ]
     },
     "metadata": {},
     "output_type": "display_data"
    },
    {
     "data": {
      "text/plain": []
     },
     "execution_count": 13,
     "metadata": {},
     "output_type": "execute_result"
    }
   ],
   "source": [
    "import random\n",
    "import gradio as gr\n",
    "\n",
    "def random_response(message, history):\n",
    "    return random.choice([\"Yes\", \"No\"])\n",
    "\n",
    "demo = gr.ChatInterface(random_response)\n",
    "\n",
    "demo.launch()"
   ]
  },
  {
   "cell_type": "markdown",
   "id": "2110c648-d624-47b6-ba72-902f434fa072",
   "metadata": {
    "jp-MarkdownHeadingCollapsed": true
   },
   "source": [
    "#### gr.TabbedInterface\n",
    "\n",
    "- [https://www.gradio.app/docs/tabbedinterface](https://www.gradio.app/docs/tabbedinterface)\n",
    "- high-level class\n",
    "- TabbedInterface 是通过提供一个接口列表来创建的，每个接口都会在一个单独的标签页中呈现。"
   ]
  },
  {
   "cell_type": "markdown",
   "id": "25f203af-8ba5-423c-8d4f-76e54276792f",
   "metadata": {},
   "source": [
    "#### gr.Blocks\n",
    "- [https://www.gradio.app/docs/blocks](https://www.gradio.app/docs/tabbedinterface)\n",
    "- low-level class\n",
    "- 可以创建比 Interfaces 更多的自定义网络应用程序和演示"
   ]
  },
  {
   "cell_type": "code",
   "execution_count": 14,
   "id": "6e2945d0-7875-4830-a7ff-70cf456f6b76",
   "metadata": {},
   "outputs": [
    {
     "name": "stdout",
     "output_type": "stream",
     "text": [
      "Running on local URL:  http://127.0.0.1:7870\n",
      "\n",
      "To create a public link, set `share=True` in `launch()`.\n"
     ]
    },
    {
     "data": {
      "text/html": [
       "<div><iframe src=\"http://127.0.0.1:7870/\" width=\"100%\" height=\"500\" allow=\"autoplay; camera; microphone; clipboard-read; clipboard-write;\" frameborder=\"0\" allowfullscreen></iframe></div>"
      ],
      "text/plain": [
       "<IPython.core.display.HTML object>"
      ]
     },
     "metadata": {},
     "output_type": "display_data"
    },
    {
     "data": {
      "text/plain": []
     },
     "execution_count": 14,
     "metadata": {},
     "output_type": "execute_result"
    }
   ],
   "source": [
    "import gradio as gr\n",
    "\n",
    "def greet(name, intensity):\n",
    "    return \"Hello \" * intensity + name + \"!\"\n",
    "\n",
    "def clear():\n",
    "    return \"\", \"\", 0\n",
    "        \n",
    "with gr.Blocks() as demo:\n",
    "    input_text = gr.Textbox()\n",
    "    slider = gr.Slider()\n",
    "    submit_btn = gr.Button()\n",
    "    clear_btn = gr.Button()\n",
    "    output_text = gr.Textbox()\n",
    "\n",
    "    submit_btn.click(\n",
    "        fn=greet,\n",
    "        inputs=[input_text, slider],\n",
    "        outputs=[output_text],\n",
    "    )\n",
    "\n",
    "    clear_btn.click(\n",
    "        fn=clear,\n",
    "        inputs=[],\n",
    "        outputs=[input_text, output_text, slider]\n",
    "    )\n",
    "\n",
    "demo.launch()"
   ]
  },
  {
   "attachments": {
    "0bf73649-8f55-4fd4-a988-f53a4eed0a9f.png": {
     "image/png": "[encoded data removed]"
    }
   },
   "cell_type": "markdown",
   "id": "17235cee-e6ff-43e8-9d24-fa1f5682c49b",
   "metadata": {},
   "source": [
    "使用布局组件\n",
    "\n",
    "![image.png](attachment:0bf73649-8f55-4fd4-a988-f53a4eed0a9f.png)"
   ]
  },
  {
   "cell_type": "code",
   "execution_count": 15,
   "id": "8a1e4145-a264-4c49-9485-097d9d197797",
   "metadata": {},
   "outputs": [
    {
     "name": "stdout",
     "output_type": "stream",
     "text": [
      "Running on local URL:  http://127.0.0.1:7871\n",
      "\n",
      "To create a public link, set `share=True` in `launch()`.\n"
     ]
    },
    {
     "data": {
      "text/html": [
       "<div><iframe src=\"http://127.0.0.1:7871/\" width=\"100%\" height=\"500\" allow=\"autoplay; camera; microphone; clipboard-read; clipboard-write;\" frameborder=\"0\" allowfullscreen></iframe></div>"
      ],
      "text/plain": [
       "<IPython.core.display.HTML object>"
      ]
     },
     "metadata": {},
     "output_type": "display_data"
    },
    {
     "data": {
      "text/plain": []
     },
     "execution_count": 15,
     "metadata": {},
     "output_type": "execute_result"
    }
   ],
   "source": [
    "import gradio as gr\n",
    "\n",
    "def greet(name, intensity):\n",
    "    return \"Hello \" * intensity + name + \"!\"\n",
    "\n",
    "def clear():\n",
    "    return \"\", \"\", 0\n",
    "        \n",
    "with gr.Blocks() as demo:\n",
    "    with gr.Row():\n",
    "        with gr.Column():\n",
    "            input_text = gr.Textbox()\n",
    "            slider = gr.Slider()\n",
    "            with gr.Row():\n",
    "                submit_btn = gr.Button()\n",
    "                clear_btn = gr.Button()\n",
    "        with gr.Column():\n",
    "            output_text = gr.Textbox()\n",
    "\n",
    "    submit_btn.click(\n",
    "        fn=greet,\n",
    "        inputs=[input_text, slider],\n",
    "        outputs=[output_text],\n",
    "    )\n",
    "\n",
    "    clear_btn.click(\n",
    "        fn=clear,\n",
    "        inputs=[],\n",
    "        outputs=[input_text, output_text, slider]\n",
    "    )\n",
    "\n",
    "demo.launch()"
   ]
  },
  {
   "cell_type": "markdown",
   "id": "aa9e1b2f-064f-428a-b0bb-4893f34b8336",
   "metadata": {},
   "source": [
    "设定组件名字"
   ]
  },
  {
   "cell_type": "code",
   "execution_count": 7,
   "id": "71e84f38-bfa8-4a4d-ab39-237352329240",
   "metadata": {},
   "outputs": [
    {
     "name": "stderr",
     "output_type": "stream",
     "text": [
      "D:\\Software\\anaconda3\\envs\\py38\\lib\\site-packages\\gradio\\utils.py:828: UserWarning: Expected 3 arguments for function <function clear_textboxes at 0x0000018626992F70>, received 0.\n",
      "  warnings.warn(\n",
      "D:\\Software\\anaconda3\\envs\\py38\\lib\\site-packages\\gradio\\utils.py:832: UserWarning: Expected at least 3 arguments for function <function clear_textboxes at 0x0000018626992F70>, received 0.\n",
      "  warnings.warn(\n"
     ]
    },
    {
     "name": "stdout",
     "output_type": "stream",
     "text": [
      "Running on local URL:  http://127.0.0.1:7865\n",
      "\n",
      "To create a public link, set `share=True` in `launch()`.\n"
     ]
    },
    {
     "data": {
      "text/html": [
       "<div><iframe src=\"http://127.0.0.1:7865/\" width=\"100%\" height=\"500\" allow=\"autoplay; camera; microphone; clipboard-read; clipboard-write;\" frameborder=\"0\" allowfullscreen></iframe></div>"
      ],
      "text/plain": [
       "<IPython.core.display.HTML object>"
      ]
     },
     "metadata": {},
     "output_type": "display_data"
    },
    {
     "data": {
      "text/plain": []
     },
     "execution_count": 7,
     "metadata": {},
     "output_type": "execute_result"
    }
   ],
   "source": [
    "import gradio as gr\n",
    "\n",
    "def greet(name, intensity):\n",
    "    return \"Hello \" * intensity + name + \"!\"\n",
    "\n",
    "def clear_textboxes(textbox1, textbox2, slider):\n",
    "    return \"\", \"\", 0\n",
    "        \n",
    "with gr.Blocks() as demo:\n",
    "    with gr.Row():\n",
    "        with gr.Column():\n",
    "            input_text = gr.Textbox(label=\"name\")\n",
    "            slider = gr.Slider(label=\"intensity\")\n",
    "            with gr.Row():\n",
    "                submit_btn = gr.Button(value=\"Submit\")\n",
    "                clear_btn = gr.Button(value=\"Clear\")\n",
    "        with gr.Column():\n",
    "            output_text = gr.Textbox(label=\"output\")\n",
    "\n",
    "    submit_btn.click(\n",
    "        fn=greet,\n",
    "        inputs=[input_text, slider],\n",
    "        outputs=[output_text],\n",
    "    )\n",
    "\n",
    "    clear_btn.click(\n",
    "        fn=clear_textboxes,\n",
    "        inputs=[],\n",
    "        outputs=[input_text, output_text, slider]\n",
    "    )\n",
    "\n",
    "demo.launch()"
   ]
  },
  {
   "cell_type": "markdown",
   "id": "405cf316-bad4-456e-bd34-1c7d061f7c4e",
   "metadata": {},
   "source": [
    "### 分析mygpt项目\n",
    "\n",
    "llm-developing-mygpt 项目"
   ]
  },
  {
   "cell_type": "code",
   "execution_count": null,
   "id": "8e2e1ba3-2525-4a7d-ad7b-402c72c30c96",
   "metadata": {},
   "outputs": [],
   "source": []
  }
 ],
 "metadata": {
  "kernelspec": {
   "display_name": "Python 3 (ipykernel)",
   "language": "python",
   "name": "python3"
  },
  "language_info": {
   "codemirror_mode": {
    "name": "ipython",
    "version": 3
   },
   "file_extension": ".py",
   "mimetype": "text/x-python",
   "name": "python",
   "nbconvert_exporter": "python",
   "pygments_lexer": "ipython3",
   "version": "3.10.9"
  }
 },
 "nbformat": 4,
 "nbformat_minor": 5
}
