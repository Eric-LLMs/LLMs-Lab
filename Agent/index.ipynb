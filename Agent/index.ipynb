{
 "cells": [
  {
   "cell_type": "markdown",
   "id": "65f5da89",
   "metadata": {
    "collapsed": true
   },
   "source": [
    "## 1. Function Description\n",
    "\n",
    "<img src=\"./data/agent-overview.png\" width=\"400\" />\n",
    "\n",
    "Design an Agent that automatically selects and uses the following tools to answer user questions:\n",
    "\n",
    "- View files in a directory\n",
    "- Answer user questions based on a given document\n",
    "- View and analyze Excel files\n",
    "- Write documents\n",
    "- Use the Email client to send emails"
   ]
  },
  {
   "cell_type": "markdown",
   "id": "5d8e79ad",
   "metadata": {},
   "source": [
    "## 2. Demonstration Use Cases\n",
    "\n",
    "In the experiment, three documents are used to demonstrate the Agent's capabilities in the `./Agent_Project/data` directory:\n",
    "  \n",
    " |__2023 August-September Sales Records.xlsx  \n",
    " |__Supplier Directory.xlsx  \n",
    " |__Supplier Qualification Requirements.pdf  "
   ]
  },
  {
   "cell_type": "markdown",
   "id": "44478077",
   "metadata": {},
   "source": [
    "Document Content Example:\n",
    "\n",
    "<img src=\"./data/doc1.png\" width=\"400\" />\n",
    "\n",
    "<img src=\"./data/doc2.png\" width=\"400\" />\n",
    "\n",
    "<img src=\"./data/doc3.png\" width=\"400\" />"
   ]
  },
  {
   "cell_type": "markdown",
   "id": "d490781c",
   "metadata": {},
   "source": [
    "Example Test Inputs:\n",
    "\n",
    "- What was the sales revenue for September?\n",
    "- Which product had the highest total sales?\n",
    "- Find suppliers whose sales fell short of the target in the last month.\n",
    "- Send an email to notify them about this.\n",
    "- Compare the sales performance of August and September, and write a report."
   ]
  },
  {
   "cell_type": "markdown",
   "id": "b37fb6f3",
   "metadata": {},
   "source": [
    "## 3. Core Module Flowchart"
   ]
  },
  {
   "cell_type": "markdown",
   "id": "8fff2946",
   "metadata": {},
   "source": [
    "<img src=\"./data/agent-flowchart.png\" width=\"2048\" />"
   ]
  },
  {
   "cell_type": "markdown",
   "id": "2066f8e2",
   "metadata": {},
   "source": [
    "## 4. Andrew Ng's recommended 4 Agent Design Paradigms\n",
    "\n",
    "1. **Reflection**: Similar to AI’s self-correction and iteration. For example, the AI system checks the code it has written and proposes modification suggestions.\n",
    "2. **Tool Use**: Large language models use plugins to extend their capabilities. For instance, using Copilot for web searches or invoking code plugins to solve logical problems.\n",
    "3. **Planning**: AI decomposes the process based on the user input task, selects tools, invokes, executes, and outputs the result. For example, generating a new image based on the pose in an existing image and providing a description.\n",
    "4. **Multi-agent**: Multiple agents collaborate to complete tasks, with each agent potentially taking on different roles, such as CEO, product manager, or programmer. This model simulates real-world work scenarios, capable of handling complex systems."
   ]
  },
  {
   "cell_type": "markdown",
   "id": "1b0d5156",
   "metadata": {},
   "source": []
  },
  {
   "cell_type": "markdown",
   "source": [
    "## 6. Agent\n",
    "There is an Agent project implemented from scratch in [Agent_Project](./Agent_Project/)."
   ],
   "metadata": {
    "collapsed": false
   },
   "id": "a430ba765792aabb"
  },
  {
   "cell_type": "code",
   "execution_count": null,
   "outputs": [],
   "source": [],
   "metadata": {
    "collapsed": false
   },
   "id": "2cca357a6327956f"
  }
 ],
 "metadata": {
  "kernelspec": {
   "display_name": "Python 3 (ipykernel)",
   "language": "python",
   "name": "python3"
  },
  "language_info": {
   "codemirror_mode": {
    "name": "ipython",
    "version": 3
   },
   "file_extension": ".py",
   "mimetype": "text/x-python",
   "name": "python",
   "nbconvert_exporter": "python",
   "pygments_lexer": "ipython3",
   "version": "3.10.9"
  }
 },
 "nbformat": 4,
 "nbformat_minor": 5
}
